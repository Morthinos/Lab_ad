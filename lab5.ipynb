{
  "nbformat": 4,
  "nbformat_minor": 0,
  "metadata": {
    "colab": {
      "provenance": []
    },
    "kernelspec": {
      "name": "python3",
      "display_name": "Python 3"
    },
    "language_info": {
      "name": "python"
    }
  },
  "cells": [
    {
      "cell_type": "code",
      "execution_count": null,
      "metadata": {
        "id": "R3-C-sP1cL4o"
      },
      "outputs": [],
      "source": [
        "import numpy as np\n",
        "import matplotlib.pyplot as plt\n",
        "from mlxtend.plotting import plot_decision_regions\n",
        "from sklearn.model_selection import train_test_split\n",
        "from sklearn.metrics import accuracy_score, r2_score\n",
        "from sklearn.datasets import load_iris, load_diabetes\n",
        "from sklearn.neighbors import KNeighborsClassifier, KNeighborsRegressor"
      ]
    },
    {
      "cell_type": "code",
      "source": [
        "#реализацию алгоритма k-ближайших соседей для классификации и регрессии.\n",
        "class KNearestNeighbors:\n",
        "    def __init__(self, n_neighbors=5, regression=False):\n",
        "        self.n_neighbors = n_neighbors #Количество ближайших соседей для рассмотрения при предсказании.\n",
        "        self.regression = regression #Флаг, указывающий, используется ли алгоритм для регрессии (True) или классификации (False).\n",
        "\n",
        "    def fit(self, X_train, y_train): #X_train: Матрица признаков обучающих данных.  y_train: Вектор целевых значений для обучающих данных.\n",
        "        self.X_train, self.y_train = X_train, y_train\n",
        "\n",
        "    def _euclidean_distances(self, x_test_i): #расстояния между образцом тестовых данных и всеми образцами обучающих данных\n",
        "        return np.sqrt(np.sum((self.X_train - x_test_i) ** 2, axis=1))\n",
        "\n",
        "    def _make_prediction(self, x_test_i):\n",
        "        distances = self._euclidean_distances(x_test_i)   # Вычисляет расстояния до всех соседей.\n",
        "        k_nearest_indexes = np.argsort(distances)[:self.n_neighbors] #Находит индексы k ближайших соседей.\n",
        "        targets = self.y_train[k_nearest_indexes]   # Извлекает целевые значения k ближайших соседей.\n",
        "\n",
        "        return np.mean(targets) if self.regression else np.bincount(targets).argmax() #Вычисляет среднее целевых значений, если это задача регрессии, или вычисляет наиболее часто встречающееся целевое значение, если это задача классификации.\n",
        "\n",
        "    def predict(self, X_test): #предсказания для каждого образца в тестовых данных,\n",
        "        return np.array([self._make_prediction(x) for x in X_test])"
      ],
      "metadata": {
        "id": "nmNrWPu4ciKB"
      },
      "execution_count": null,
      "outputs": []
    },
    {
      "cell_type": "markdown",
      "source": [],
      "metadata": {
        "id": "xRvL7v229e2Z"
      }
    },
    {
      "cell_type": "code",
      "source": [
        "#Код для отрисовки графика\n",
        "\n",
        "def decision_boundary_plot(X, y, X_train, y_train, clf, feature_indexes, title=None):\n",
        "    feature1_name, feature2_name = X.columns[feature_indexes]\n",
        "    X_feature_columns = X.values[:, feature_indexes]\n",
        "    X_train_feature_columns = X_train[:, feature_indexes]\n",
        "    clf.fit(X_train_feature_columns, y_train)\n",
        "\n",
        "    plot_decision_regions(X=X_feature_columns, y=y.values, clf=clf)\n",
        "    plt.xlabel(feature1_name)\n",
        "    plt.ylabel(feature2_name)\n",
        "    plt.title(title)"
      ],
      "metadata": {
        "id": "6-Hx46NdciMf"
      },
      "execution_count": null,
      "outputs": []
    },
    {
      "cell_type": "code",
      "source": [
        "#Загрузка датасетов\n",
        "X1, y1 = load_iris(return_X_y=True, as_frame=True)\n",
        "X1_train, X1_test, y1_train, y1_test = train_test_split(X1.values, y1.values, random_state=0)\n",
        "print(X1, y1, sep='\\n')"
      ],
      "metadata": {
        "colab": {
          "base_uri": "https://localhost:8080/"
        },
        "id": "QN8Yr1SOciQC",
        "outputId": "e6b05299-1175-46a9-cf32-6ef53d44420a"
      },
      "execution_count": null,
      "outputs": [
        {
          "output_type": "stream",
          "name": "stdout",
          "text": [
            "     sepal length (cm)  sepal width (cm)  petal length (cm)  petal width (cm)\n",
            "0                  5.1               3.5                1.4               0.2\n",
            "1                  4.9               3.0                1.4               0.2\n",
            "2                  4.7               3.2                1.3               0.2\n",
            "3                  4.6               3.1                1.5               0.2\n",
            "4                  5.0               3.6                1.4               0.2\n",
            "..                 ...               ...                ...               ...\n",
            "145                6.7               3.0                5.2               2.3\n",
            "146                6.3               2.5                5.0               1.9\n",
            "147                6.5               3.0                5.2               2.0\n",
            "148                6.2               3.4                5.4               2.3\n",
            "149                5.9               3.0                5.1               1.8\n",
            "\n",
            "[150 rows x 4 columns]\n",
            "0      0\n",
            "1      0\n",
            "2      0\n",
            "3      0\n",
            "4      0\n",
            "      ..\n",
            "145    2\n",
            "146    2\n",
            "147    2\n",
            "148    2\n",
            "149    2\n",
            "Name: target, Length: 150, dtype: int64\n"
          ]
        }
      ]
    },
    {
      "cell_type": "code",
      "source": [
        "#загрузка датасета\n",
        "X2, y2 = load_diabetes(return_X_y=True, as_frame=True)\n",
        "X2_train, X2_test, y2_train, y2_test = train_test_split(X2.values, y2.values, random_state=0)\n",
        "print(X2, y2, sep='\\n')"
      ],
      "metadata": {
        "colab": {
          "base_uri": "https://localhost:8080/"
        },
        "id": "luswG11HciSa",
        "outputId": "0a91cb0f-e67b-448d-ee71-2b6acb672a13"
      },
      "execution_count": null,
      "outputs": [
        {
          "output_type": "stream",
          "name": "stdout",
          "text": [
            "          age       sex       bmi        bp        s1        s2        s3  \\\n",
            "0    0.038076  0.050680  0.061696  0.021872 -0.044223 -0.034821 -0.043401   \n",
            "1   -0.001882 -0.044642 -0.051474 -0.026328 -0.008449 -0.019163  0.074412   \n",
            "2    0.085299  0.050680  0.044451 -0.005670 -0.045599 -0.034194 -0.032356   \n",
            "3   -0.089063 -0.044642 -0.011595 -0.036656  0.012191  0.024991 -0.036038   \n",
            "4    0.005383 -0.044642 -0.036385  0.021872  0.003935  0.015596  0.008142   \n",
            "..        ...       ...       ...       ...       ...       ...       ...   \n",
            "437  0.041708  0.050680  0.019662  0.059744 -0.005697 -0.002566 -0.028674   \n",
            "438 -0.005515  0.050680 -0.015906 -0.067642  0.049341  0.079165 -0.028674   \n",
            "439  0.041708  0.050680 -0.015906  0.017293 -0.037344 -0.013840 -0.024993   \n",
            "440 -0.045472 -0.044642  0.039062  0.001215  0.016318  0.015283 -0.028674   \n",
            "441 -0.045472 -0.044642 -0.073030 -0.081413  0.083740  0.027809  0.173816   \n",
            "\n",
            "           s4        s5        s6  \n",
            "0   -0.002592  0.019907 -0.017646  \n",
            "1   -0.039493 -0.068332 -0.092204  \n",
            "2   -0.002592  0.002861 -0.025930  \n",
            "3    0.034309  0.022688 -0.009362  \n",
            "4   -0.002592 -0.031988 -0.046641  \n",
            "..        ...       ...       ...  \n",
            "437 -0.002592  0.031193  0.007207  \n",
            "438  0.034309 -0.018114  0.044485  \n",
            "439 -0.011080 -0.046883  0.015491  \n",
            "440  0.026560  0.044529 -0.025930  \n",
            "441 -0.039493 -0.004222  0.003064  \n",
            "\n",
            "[442 rows x 10 columns]\n",
            "0      151.0\n",
            "1       75.0\n",
            "2      141.0\n",
            "3      206.0\n",
            "4      135.0\n",
            "       ...  \n",
            "437    178.0\n",
            "438    104.0\n",
            "439    132.0\n",
            "440    220.0\n",
            "441     57.0\n",
            "Name: target, Length: 442, dtype: float64\n"
          ]
        }
      ]
    },
    {
      "cell_type": "code",
      "source": [
        "#создание классификатора\n",
        "knn_clf = KNearestNeighbors()\n",
        "knn_clf.fit(X1_train, y1_train) #обучение модели\n",
        "knn_clf_pred_res = knn_clf.predict(X1_test)# предсказание\n",
        "knn_clf_accuracy = accuracy_score(y1_test, knn_clf_pred_res)#оценки точности\n",
        "\n",
        "print(f'KNN classifier accuracy: {knn_clf_accuracy:}')\n",
        "print(knn_clf_pred_res)"
      ],
      "metadata": {
        "colab": {
          "base_uri": "https://localhost:8080/"
        },
        "id": "Qeae_oi2cij6",
        "outputId": "0f094d07-8c03-4341-a9e8-9fa758553aa4"
      },
      "execution_count": null,
      "outputs": [
        {
          "output_type": "stream",
          "name": "stdout",
          "text": [
            "KNN classifier accuracy: 0.9736842105263158\n",
            "[2 1 0 2 0 2 0 1 1 1 2 1 1 1 1 0 1 1 0 0 2 1 0 0 2 0 0 1 1 0 2 1 0 2 2 1 0\n",
            " 2]\n"
          ]
        }
      ]
    },
    {
      "cell_type": "code",
      "source": [
        "knn_reg = KNearestNeighbors(regression=True)\n",
        "knn_reg.fit(X2_train, y2_train)\n",
        "knn_reg_pred_res = knn_reg.predict(X2_test)\n",
        "knn_reg_r2 = r2_score(y2_test, knn_reg_pred_res)\n",
        "\n",
        "print(f'KNN regressor R2 score: {knn_reg_r2}')\n",
        "print(knn_reg_pred_res)"
      ],
      "metadata": {
        "colab": {
          "base_uri": "https://localhost:8080/"
        },
        "id": "N8ziCaBjcimA",
        "outputId": "f15904d8-86d9-46eb-edb4-5e26a71c1932"
      },
      "execution_count": null,
      "outputs": [
        {
          "output_type": "stream",
          "name": "stdout",
          "text": [
            "KNN regressor R2 score: 0.18912404854026388\n",
            "[253.6 188.6 183.2 138.4 177.8 189.6 111.8 229.  178.  266.8 147.6 193.8\n",
            " 136.4  55.6 297.4  73.6  97.2  83.8 130.8 214.4 173.6 115.2 167.4 101.\n",
            " 186.8 175.6  97.2  75.  172.4 144.2 205.4  63.8 161.6 190.8 110.2 159.2\n",
            " 199.4 141.2 121.4 140.8 155.6 173.8 140.6 175.6 134.2  84.6 110.4 127.2\n",
            " 107.4 209.2 130.2  78.2 183.6 105.  227.4 160.4 155.  104.6 119.2 175.8\n",
            " 159.8 141.6 150.4 100.2 279.2 128.4  91.2 269.2 183.2  88.4 118.  151.6\n",
            "  74.8  97.8 126.2 140.4 127.4 223.6 236.6 191.2 111.6 219.8  69.6 169.4\n",
            "  87.6  92.6 112.  145.8 117.  153.2 115.2  92.8  67.6 172.   92.4 106.6\n",
            " 208.4 173.8 113.2 104.4 141.6 128.2 226.   87.  247.6 147.6 223.6 217.2\n",
            " 149.   72.6 182. ]\n"
          ]
        }
      ]
    },
    {
      "cell_type": "code",
      "source": [
        "sk_knn_clf = KNeighborsClassifier()\n",
        "sk_knn_clf.fit(X1_train, y1_train)\n",
        "sk_knn_clf_pred_res = sk_knn_clf.predict(X1_test)\n",
        "sk_knn_clf_accuracy = accuracy_score(y1_test, sk_knn_clf_pred_res)\n",
        "\n",
        "print(f'sk KNN classifier accuracy: {sk_knn_clf_accuracy:}')\n",
        "print(sk_knn_clf_pred_res)\n",
        "#визуализация границы принятия решений\n",
        "feature_indexes = [2, 3]\n",
        "title1 = 'KNeighborsClassifier surface'\n",
        "decision_boundary_plot(X1, y1, X1_train, y1_train, sk_knn_clf, feature_indexes, title1)"
      ],
      "metadata": {
        "colab": {
          "base_uri": "https://localhost:8080/",
          "height": 524
        },
        "id": "w6crVGkpciok",
        "outputId": "3ea168c3-d09a-4deb-9860-8d71248a01df"
      },
      "execution_count": null,
      "outputs": [
        {
          "output_type": "stream",
          "name": "stdout",
          "text": [
            "sk KNN classifier accuracy: 0.9736842105263158\n",
            "[2 1 0 2 0 2 0 1 1 1 2 1 1 1 1 0 1 1 0 0 2 1 0 0 2 0 0 1 1 0 2 1 0 2 2 1 0\n",
            " 2]\n"
          ]
        },
        {
          "output_type": "display_data",
          "data": {
            "text/plain": [
              "<Figure size 640x480 with 1 Axes>"
            ],
            "image/png": "[encoded data removed]"
          },
          "metadata": {}
        }
      ]
    },
    {
      "cell_type": "code",
      "source": [
        "sk_knn_reg = KNeighborsRegressor()\n",
        "sk_knn_reg.fit(X2_train, y2_train)\n",
        "sk_knn_reg_pred_res = sk_knn_reg.predict(X2_test)\n",
        "sk_knn_reg_r2 = r2_score(y2_test, sk_knn_reg_pred_res) #Вычисляется коэффициент определения R2 между фактическими целевыми значениями и предсказанными значениями\n",
        "\n",
        "print(f'sk KNN regressor R2 score: {sk_knn_reg_r2}') #значение R2 для регрессора k-ближайших соседей.\n",
        "print(sk_knn_reg_pred_res)"
      ],
      "metadata": {
        "colab": {
          "base_uri": "https://localhost:8080/"
        },
        "id": "cxzfAvU4cirj",
        "outputId": "aec5e608-4e67-48d1-c9b9-1bf815e40a40"
      },
      "execution_count": null,
      "outputs": [
        {
          "output_type": "stream",
          "name": "stdout",
          "text": [
            "sk KNN regressor R2 score: 0.18912404854026388\n",
            "[253.6 188.6 183.2 138.4 177.8 189.6 111.8 229.  178.  266.8 147.6 193.8\n",
            " 136.4  55.6 297.4  73.6  97.2  83.8 130.8 214.4 173.6 115.2 167.4 101.\n",
            " 186.8 175.6  97.2  75.  172.4 144.2 205.4  63.8 161.6 190.8 110.2 159.2\n",
            " 199.4 141.2 121.4 140.8 155.6 173.8 140.6 175.6 134.2  84.6 110.4 127.2\n",
            " 107.4 209.2 130.2  78.2 183.6 105.  227.4 160.4 155.  104.6 119.2 175.8\n",
            " 159.8 141.6 150.4 100.2 279.2 128.4  91.2 269.2 183.2  88.4 118.  151.6\n",
            "  74.8  97.8 126.2 140.4 127.4 223.6 236.6 191.2 111.6 219.8  69.6 169.4\n",
            "  87.6  92.6 112.  145.8 117.  153.2 115.2  92.8  67.6 172.   92.4 106.6\n",
            " 208.4 173.8 113.2 104.4 141.6 128.2 226.   87.  247.6 147.6 223.6 217.2\n",
            " 149.   72.6 182. ]\n"
          ]
        }
      ]
    },
    {
      "cell_type": "code",
      "source": [],
      "metadata": {
        "id": "7Oh5BzFGciug"
      },
      "execution_count": null,
      "outputs": []
    },
    {
      "cell_type": "code",
      "source": [],
      "metadata": {
        "id": "Nb3KndqHcixI"
      },
      "execution_count": null,
      "outputs": []
    },
    {
      "cell_type": "code",
      "source": [],
      "metadata": {
        "id": "b67jPNGRci2_"
      },
      "execution_count": null,
      "outputs": []
    },
    {
      "cell_type": "code",
      "source": [],
      "metadata": {
        "id": "wDyS2TYVci5y"
      },
      "execution_count": null,
      "outputs": []
    },
    {
      "cell_type": "code",
      "source": [],
      "metadata": {
        "id": "hfjMdSPbci82"
      },
      "execution_count": null,
      "outputs": []
    }
  ]
}